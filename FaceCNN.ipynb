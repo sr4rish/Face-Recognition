{
  "nbformat": 4,
  "nbformat_minor": 0,
  "metadata": {
    "colab": {
      "name": "FaceCNN.ipynb",
      "provenance": [],
      "mount_file_id": "19G-wrlZJLIDiNCybklxyRuHdPZGY8vja",
      "authorship_tag": "ABX9TyMvOFVOP82A60aDaPENhAHx",
      "include_colab_link": true
    },
    "kernelspec": {
      "name": "python3",
      "display_name": "Python 3"
    },
    "accelerator": "GPU"
  },
  "cells": [
    {
      "cell_type": "markdown",
      "metadata": {
        "id": "view-in-github",
        "colab_type": "text"
      },
      "source": [
        "<a href=\"https://colab.research.google.com/github/sr4rish/Face-Recognition/blob/master/FaceCNN.ipynb\" target=\"_parent\"><img src=\"https://colab.research.google.com/assets/colab-badge.svg\" alt=\"Open In Colab\"/></a>"
      ]
    },
    {
      "cell_type": "code",
      "metadata": {
        "id": "-l3sLfh2Sh63",
        "colab_type": "code",
        "colab": {}
      },
      "source": [
        "from tensorflow.keras.layers import Input, Lambda, Dense, Flatten,Conv2D, MaxPooling2D, Dropout\n",
        "from tensorflow.keras.models import Model\n",
        "from tensorflow.keras.preprocessing import image\n",
        "from tensorflow.keras.preprocessing.image import ImageDataGenerator,load_img\n",
        "from tensorflow.keras.models import Sequential\n",
        "import numpy as np\n",
        "from glob import glob\n",
        "import matplotlib.pyplot as plt"
      ],
      "execution_count": null,
      "outputs": []
    },
    {
      "cell_type": "code",
      "metadata": {
        "id": "rEYe-T8aSpWe",
        "colab_type": "code",
        "colab": {}
      },
      "source": [
        "# Initialising the CNN\n",
        "classifier = Sequential()\n",
        "\n",
        "# Step 1 - Convolution\n",
        "classifier.add(Conv2D(128, 3, 3, input_shape = (224, 224, 3), activation = 'relu'))\n",
        "\n",
        "# Step 2 - Pooling\n",
        "classifier.add(MaxPooling2D(pool_size = (2, 2), padding='same'))\n",
        "\n",
        "# Adding a second convolutional layer\n",
        "classifier.add(Conv2D(256, 3, 3, activation = 'relu'))\n",
        "classifier.add(MaxPooling2D(pool_size = (2, 2), padding='same'))\n",
        "\n",
        "# Adding a second convolutional layer\n",
        "classifier.add(Conv2D(512, 3, 3, activation = 'relu'))\n",
        "classifier.add(MaxPooling2D(pool_size = (2, 2), padding='same'))\n",
        "\n",
        "# Step 3 - Flattening\n",
        "classifier.add(Flatten())\n",
        "\n",
        "# Step 4 - Full connection\n",
        "classifier.add(Dense(units = 1026, activation = 'relu'))\n",
        "classifier.add(Dense(units = 512, activation = 'relu'))\n",
        "classifier.add(Dropout(0.5))\n",
        "classifier.add(Dense(units = 1, activation = 'sigmoid'))\n",
        "\n",
        "# Compiling the CNN\n",
        "classifier.compile(optimizer = 'adam', loss = 'binary_crossentropy', metrics = ['accuracy'])"
      ],
      "execution_count": null,
      "outputs": []
    },
    {
      "cell_type": "code",
      "metadata": {
        "id": "XqJGxgfBSpSW",
        "colab_type": "code",
        "colab": {}
      },
      "source": [
        "# Part 2 - Fitting the CNN to the images\n",
        "from tensorflow.keras.preprocessing.image import ImageDataGenerator\n",
        "\n",
        "train_datagen = ImageDataGenerator(rescale = 1./255,\n",
        "                                   shear_range = 0.2,\n",
        "                                   zoom_range = 0.2,\n",
        "                                   horizontal_flip = True)\n",
        "\n",
        "test_datagen = ImageDataGenerator(rescale = 1./255)"
      ],
      "execution_count": null,
      "outputs": []
    },
    {
      "cell_type": "code",
      "metadata": {
        "id": "Qv94lLBySpQ-",
        "colab_type": "code",
        "colab": {
          "base_uri": "https://localhost:8080/",
          "height": 34
        },
        "outputId": "2bbc8a72-abfb-48e4-d857-e5c7a5d8fe8a"
      },
      "source": [
        "# Make sure you provide the same target size as initialied for the image size\n",
        "training_set = train_datagen.flow_from_directory('/content/drive/My Drive/Footballers/train',\n",
        "                                                 target_size = (224, 224),\n",
        "                                                 batch_size = 50,\n",
        "                                                 class_mode = 'binary')"
      ],
      "execution_count": null,
      "outputs": [
        {
          "output_type": "stream",
          "text": [
            "Found 200 images belonging to 2 classes.\n"
          ],
          "name": "stdout"
        }
      ]
    },
    {
      "cell_type": "code",
      "metadata": {
        "id": "EdDG3gI7SpNV",
        "colab_type": "code",
        "colab": {
          "base_uri": "https://localhost:8080/",
          "height": 34
        },
        "outputId": "9838b974-2fba-426c-d3ed-db62c3e2de39"
      },
      "source": [
        "test_set = test_datagen.flow_from_directory('/content/drive/My Drive/Footballers/test',\n",
        "                                            target_size = (224, 224),\n",
        "                                            batch_size = 32,\n",
        "                                            class_mode = 'binary')"
      ],
      "execution_count": null,
      "outputs": [
        {
          "output_type": "stream",
          "text": [
            "Found 40 images belonging to 2 classes.\n"
          ],
          "name": "stdout"
        }
      ]
    },
    {
      "cell_type": "code",
      "metadata": {
        "id": "hRb_u-WySpL0",
        "colab_type": "code",
        "colab": {
          "base_uri": "https://localhost:8080/",
          "height": 1000
        },
        "outputId": "a61dc8f3-b6a3-4cfb-be0e-4dbabc13ee0d"
      },
      "source": [
        "classifier.fit_generator(training_set,\n",
        "                         validation_data=test_set,\n",
        "                         epochs=50,\n",
        "                         steps_per_epoch=len(training_set),\n",
        "                         validation_steps=len(test_set)\n",
        ")"
      ],
      "execution_count": null,
      "outputs": [
        {
          "output_type": "stream",
          "text": [
            "Epoch 1/50\n",
            "4/4 [==============================] - 2s 482ms/step - loss: 0.7092 - accuracy: 0.4850 - val_loss: 0.6974 - val_accuracy: 0.5000\n",
            "Epoch 2/50\n",
            "4/4 [==============================] - 2s 451ms/step - loss: 0.6990 - accuracy: 0.5350 - val_loss: 0.6930 - val_accuracy: 0.5000\n",
            "Epoch 3/50\n",
            "4/4 [==============================] - 2s 458ms/step - loss: 0.6943 - accuracy: 0.5000 - val_loss: 0.6927 - val_accuracy: 0.6250\n",
            "Epoch 4/50\n",
            "4/4 [==============================] - 2s 465ms/step - loss: 0.6931 - accuracy: 0.5000 - val_loss: 0.6910 - val_accuracy: 0.5250\n",
            "Epoch 5/50\n",
            "4/4 [==============================] - 2s 462ms/step - loss: 0.6892 - accuracy: 0.6250 - val_loss: 0.6828 - val_accuracy: 0.7250\n",
            "Epoch 6/50\n",
            "4/4 [==============================] - 2s 454ms/step - loss: 0.6827 - accuracy: 0.6050 - val_loss: 0.6578 - val_accuracy: 0.7000\n",
            "Epoch 7/50\n",
            "4/4 [==============================] - 2s 457ms/step - loss: 0.6632 - accuracy: 0.6450 - val_loss: 0.6179 - val_accuracy: 0.6250\n",
            "Epoch 8/50\n",
            "4/4 [==============================] - 2s 458ms/step - loss: 0.6313 - accuracy: 0.6700 - val_loss: 0.5802 - val_accuracy: 0.7250\n",
            "Epoch 9/50\n",
            "4/4 [==============================] - 2s 458ms/step - loss: 0.6384 - accuracy: 0.6250 - val_loss: 0.5628 - val_accuracy: 0.8000\n",
            "Epoch 10/50\n",
            "4/4 [==============================] - 2s 454ms/step - loss: 0.5872 - accuracy: 0.7400 - val_loss: 0.5613 - val_accuracy: 0.7500\n",
            "Epoch 11/50\n",
            "4/4 [==============================] - 2s 464ms/step - loss: 0.5937 - accuracy: 0.7100 - val_loss: 0.5378 - val_accuracy: 0.8000\n",
            "Epoch 12/50\n",
            "4/4 [==============================] - 2s 460ms/step - loss: 0.5507 - accuracy: 0.7200 - val_loss: 0.5629 - val_accuracy: 0.7750\n",
            "Epoch 13/50\n",
            "4/4 [==============================] - 2s 472ms/step - loss: 0.5203 - accuracy: 0.7350 - val_loss: 0.5825 - val_accuracy: 0.6250\n",
            "Epoch 14/50\n",
            "4/4 [==============================] - 2s 463ms/step - loss: 0.4914 - accuracy: 0.7800 - val_loss: 0.6109 - val_accuracy: 0.6250\n",
            "Epoch 15/50\n",
            "4/4 [==============================] - 2s 464ms/step - loss: 0.4891 - accuracy: 0.8050 - val_loss: 0.6173 - val_accuracy: 0.7750\n",
            "Epoch 16/50\n",
            "4/4 [==============================] - 2s 463ms/step - loss: 0.4762 - accuracy: 0.7750 - val_loss: 0.5215 - val_accuracy: 0.7750\n",
            "Epoch 17/50\n",
            "4/4 [==============================] - 2s 462ms/step - loss: 0.4579 - accuracy: 0.8200 - val_loss: 0.5216 - val_accuracy: 0.7500\n",
            "Epoch 18/50\n",
            "4/4 [==============================] - 2s 455ms/step - loss: 0.4016 - accuracy: 0.8350 - val_loss: 0.5377 - val_accuracy: 0.7250\n",
            "Epoch 19/50\n",
            "4/4 [==============================] - 2s 458ms/step - loss: 0.3854 - accuracy: 0.8250 - val_loss: 0.5453 - val_accuracy: 0.7250\n",
            "Epoch 20/50\n",
            "4/4 [==============================] - 2s 459ms/step - loss: 0.3300 - accuracy: 0.8750 - val_loss: 0.7208 - val_accuracy: 0.6250\n",
            "Epoch 21/50\n",
            "4/4 [==============================] - 2s 461ms/step - loss: 0.3202 - accuracy: 0.8550 - val_loss: 0.6990 - val_accuracy: 0.7750\n",
            "Epoch 22/50\n",
            "4/4 [==============================] - 2s 459ms/step - loss: 0.2941 - accuracy: 0.8850 - val_loss: 0.6820 - val_accuracy: 0.7250\n",
            "Epoch 23/50\n",
            "4/4 [==============================] - 2s 457ms/step - loss: 0.2452 - accuracy: 0.9000 - val_loss: 0.7050 - val_accuracy: 0.7250\n",
            "Epoch 24/50\n",
            "4/4 [==============================] - 2s 459ms/step - loss: 0.2677 - accuracy: 0.9000 - val_loss: 0.7091 - val_accuracy: 0.7750\n",
            "Epoch 25/50\n",
            "4/4 [==============================] - 2s 459ms/step - loss: 0.2078 - accuracy: 0.9050 - val_loss: 0.7837 - val_accuracy: 0.7250\n",
            "Epoch 26/50\n",
            "4/4 [==============================] - 2s 460ms/step - loss: 0.2564 - accuracy: 0.8850 - val_loss: 0.7587 - val_accuracy: 0.7500\n",
            "Epoch 27/50\n",
            "4/4 [==============================] - 2s 455ms/step - loss: 0.2520 - accuracy: 0.8800 - val_loss: 0.6190 - val_accuracy: 0.7500\n",
            "Epoch 28/50\n",
            "4/4 [==============================] - 2s 458ms/step - loss: 0.1906 - accuracy: 0.9350 - val_loss: 0.7491 - val_accuracy: 0.8000\n",
            "Epoch 29/50\n",
            "4/4 [==============================] - 2s 456ms/step - loss: 0.1849 - accuracy: 0.9550 - val_loss: 0.7841 - val_accuracy: 0.8000\n",
            "Epoch 30/50\n",
            "4/4 [==============================] - 2s 459ms/step - loss: 0.1595 - accuracy: 0.9300 - val_loss: 0.7926 - val_accuracy: 0.7750\n",
            "Epoch 31/50\n",
            "4/4 [==============================] - 2s 455ms/step - loss: 0.2021 - accuracy: 0.9000 - val_loss: 0.8949 - val_accuracy: 0.7250\n",
            "Epoch 32/50\n",
            "4/4 [==============================] - 2s 462ms/step - loss: 0.2471 - accuracy: 0.9100 - val_loss: 0.7562 - val_accuracy: 0.7000\n",
            "Epoch 33/50\n",
            "4/4 [==============================] - 2s 455ms/step - loss: 0.1533 - accuracy: 0.9250 - val_loss: 0.9523 - val_accuracy: 0.7500\n",
            "Epoch 34/50\n",
            "4/4 [==============================] - 2s 459ms/step - loss: 0.1732 - accuracy: 0.9450 - val_loss: 1.0508 - val_accuracy: 0.7250\n",
            "Epoch 35/50\n",
            "4/4 [==============================] - 2s 459ms/step - loss: 0.1559 - accuracy: 0.9300 - val_loss: 0.7933 - val_accuracy: 0.7500\n",
            "Epoch 36/50\n",
            "4/4 [==============================] - 2s 461ms/step - loss: 0.1240 - accuracy: 0.9500 - val_loss: 0.8944 - val_accuracy: 0.7750\n",
            "Epoch 37/50\n",
            "4/4 [==============================] - 2s 460ms/step - loss: 0.0888 - accuracy: 0.9750 - val_loss: 0.9762 - val_accuracy: 0.7250\n",
            "Epoch 38/50\n",
            "4/4 [==============================] - 2s 484ms/step - loss: 0.1092 - accuracy: 0.9600 - val_loss: 0.8343 - val_accuracy: 0.8000\n",
            "Epoch 39/50\n",
            "4/4 [==============================] - 2s 483ms/step - loss: 0.1201 - accuracy: 0.9650 - val_loss: 0.8994 - val_accuracy: 0.7250\n",
            "Epoch 40/50\n",
            "4/4 [==============================] - 2s 480ms/step - loss: 0.1212 - accuracy: 0.9550 - val_loss: 1.1262 - val_accuracy: 0.7500\n",
            "Epoch 41/50\n",
            "4/4 [==============================] - 2s 488ms/step - loss: 0.0812 - accuracy: 0.9800 - val_loss: 0.9133 - val_accuracy: 0.7750\n",
            "Epoch 42/50\n",
            "4/4 [==============================] - 2s 476ms/step - loss: 0.1221 - accuracy: 0.9550 - val_loss: 1.0371 - val_accuracy: 0.7750\n",
            "Epoch 43/50\n",
            "4/4 [==============================] - 2s 457ms/step - loss: 0.0871 - accuracy: 0.9650 - val_loss: 0.7719 - val_accuracy: 0.8000\n",
            "Epoch 44/50\n",
            "4/4 [==============================] - 2s 459ms/step - loss: 0.0544 - accuracy: 0.9800 - val_loss: 0.9297 - val_accuracy: 0.7750\n",
            "Epoch 45/50\n",
            "4/4 [==============================] - 2s 453ms/step - loss: 0.0705 - accuracy: 0.9700 - val_loss: 1.1303 - val_accuracy: 0.8000\n",
            "Epoch 46/50\n",
            "4/4 [==============================] - 2s 463ms/step - loss: 0.0635 - accuracy: 0.9700 - val_loss: 1.1000 - val_accuracy: 0.8000\n",
            "Epoch 47/50\n",
            "4/4 [==============================] - 2s 504ms/step - loss: 0.0554 - accuracy: 0.9900 - val_loss: 1.2048 - val_accuracy: 0.7750\n",
            "Epoch 48/50\n",
            "4/4 [==============================] - 2s 465ms/step - loss: 0.0441 - accuracy: 0.9800 - val_loss: 1.1362 - val_accuracy: 0.7750\n",
            "Epoch 49/50\n",
            "4/4 [==============================] - 2s 460ms/step - loss: 0.0147 - accuracy: 1.0000 - val_loss: 1.2688 - val_accuracy: 0.7750\n",
            "Epoch 50/50\n",
            "4/4 [==============================] - 2s 463ms/step - loss: 0.0256 - accuracy: 0.9900 - val_loss: 1.2772 - val_accuracy: 0.8000\n"
          ],
          "name": "stdout"
        },
        {
          "output_type": "execute_result",
          "data": {
            "text/plain": [
              "<tensorflow.python.keras.callbacks.History at 0x7f6bfa2e7dd8>"
            ]
          },
          "metadata": {
            "tags": []
          },
          "execution_count": 66
        }
      ]
    }
  ]
}